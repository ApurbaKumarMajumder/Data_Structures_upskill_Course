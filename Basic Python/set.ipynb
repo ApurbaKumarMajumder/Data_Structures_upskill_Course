{
 "cells": [
  {
   "attachments": {},
   "cell_type": "markdown",
   "metadata": {},
   "source": [
    "# Set"
   ]
  },
  {
   "attachments": {},
   "cell_type": "markdown",
   "metadata": {},
   "source": [
    "1. set is a class\n",
    "2. set is mutable\n",
    "3. set is not hashable\n",
    "4. set is iterable\n",
    "5. set is not a sequence\n",
    "6. set cannot have duplicate values\n",
    "7. indexing is not applicable to set object\n",
    "8. slicing operator is not applicable\n",
    "9. set does not guarantee to store values in the order of insertion. "
   ]
  },
  {
   "attachments": {},
   "cell_type": "markdown",
   "metadata": {},
   "source": [
    "### How to create set objects"
   ]
  },
  {
   "cell_type": "code",
   "execution_count": 4,
   "metadata": {},
   "outputs": [
    {
     "name": "stdout",
     "output_type": "stream",
     "text": [
      "<class 'set'>\n",
      "<class 'set'>\n",
      "{8, 1, 5}\n",
      "{8, 10, 2}\n"
     ]
    }
   ],
   "source": [
    "s1 = {1, 5, 8}\n",
    "print(type(s1))\n",
    "\n",
    "s2 = {10, 2, 8, 10, 10, 8}\n",
    "print(type(s2))\n",
    "\n",
    "print(s1)\n",
    "print(s2)"
   ]
  },
  {
   "cell_type": "code",
   "execution_count": 2,
   "metadata": {},
   "outputs": [
    {
     "name": "stdout",
     "output_type": "stream",
     "text": [
      "<class 'dict'>\n",
      "<class 'set'>\n"
     ]
    }
   ],
   "source": [
    "# you can not create empty set like this \n",
    "s3 = {} # not a set object\n",
    "print(type(s3))\n",
    "\n",
    "# empty set\n",
    "s4 = set() # set function\n",
    "print(type(s4))"
   ]
  },
  {
   "cell_type": "code",
   "execution_count": 4,
   "metadata": {},
   "outputs": [
    {
     "data": {
      "text/plain": [
       "[10, 20, 12, 30]"
      ]
     },
     "execution_count": 4,
     "metadata": {},
     "output_type": "execute_result"
    }
   ],
   "source": [
    "s5 = set([10, 20, 30])\n",
    "l1 = [20, 10, 12, 20, 30, 10, 20, 12]\n",
    "l1 = list(set(l1))\n",
    "l1"
   ]
  },
  {
   "attachments": {},
   "cell_type": "markdown",
   "metadata": {},
   "source": [
    "### Accessing set elements"
   ]
  },
  {
   "cell_type": "code",
   "execution_count": 5,
   "metadata": {},
   "outputs": [
    {
     "name": "stdout",
     "output_type": "stream",
     "text": [
      "8\n",
      "10\n",
      "2\n"
     ]
    }
   ],
   "source": [
    "for e in s2:\n",
    "    print(e)"
   ]
  }
 ],
 "metadata": {
  "kernelspec": {
   "display_name": "Python 3",
   "language": "python",
   "name": "python3"
  },
  "language_info": {
   "codemirror_mode": {
    "name": "ipython",
    "version": 3
   },
   "file_extension": ".py",
   "mimetype": "text/x-python",
   "name": "python",
   "nbconvert_exporter": "python",
   "pygments_lexer": "ipython3",
   "version": "3.11.2"
  },
  "orig_nbformat": 4
 },
 "nbformat": 4,
 "nbformat_minor": 2
}
