{
 "cells": [
  {
   "attachments": {},
   "cell_type": "markdown",
   "metadata": {},
   "source": [
    "### Method Overloading"
   ]
  },
  {
   "attachments": {},
   "cell_type": "markdown",
   "metadata": {},
   "source": [
    "Method Overloading (method name is same, different args)\n",
    "(Not applicable in python)\n",
    "not directly\n",
    "\n",
    "    add(n1, n2):\n",
    "        n1 + n2\n",
    "\n",
    "    add(n1, n2, n3):\n",
    "        n1 + n2 + n3\n",
    "\n",
    "    add(4, 5, 8)"
   ]
  },
  {
   "attachments": {},
   "cell_type": "markdown",
   "metadata": {},
   "source": [
    "### Method Overriding"
   ]
  },
  {
   "cell_type": "code",
   "execution_count": 11,
   "metadata": {},
   "outputs": [
    {
     "data": {
      "text/plain": [
       "'Motorola'"
      ]
     },
     "execution_count": 11,
     "metadata": {},
     "output_type": "execute_result"
    }
   ],
   "source": [
    "class Father:\n",
    "    def getPhone(self):\n",
    "        return \"Nokia\"\n",
    "\n",
    "class Child(Father):\n",
    "    def getPhone(self):\n",
    "        return \"Motorola\"\n",
    "\n",
    "obj = Child()\n",
    "obj.getPhone()"
   ]
  },
  {
   "cell_type": "code",
   "execution_count": 16,
   "metadata": {},
   "outputs": [],
   "source": [
    "class OS1:\n",
    "\n",
    "    def call(self):\n",
    "        print(\"calling..\")\n",
    "\n",
    "    def getNotification(self):\n",
    "        print(\"Notification on top, 15\")\n",
    "\n",
    "class OS2(OS1):\n",
    "    \n",
    "    def getNotification(self):\n",
    "        print(\"Notification at Buttom, 16\")\n",
    "\n",
    "    def dance(self):\n",
    "        print(\"Dance for me\")"
   ]
  },
  {
   "cell_type": "code",
   "execution_count": 17,
   "metadata": {},
   "outputs": [
    {
     "name": "stdout",
     "output_type": "stream",
     "text": [
      "Notification at Buttom, 16\n",
      "calling..\n",
      "Dance for me\n"
     ]
    }
   ],
   "source": [
    "class IPhone:\n",
    "\n",
    "    def getOSVersion(self, os):\n",
    "        os.getNotification()\n",
    "\n",
    "    def PhoneCalling(self, os):\n",
    "        os.call()\n",
    "\n",
    "os = OS2()\n",
    "\n",
    "obj = IPhone()\n",
    "obj.getOSVersion(os)\n",
    "obj.PhoneCalling(os)\n",
    "os.dance()"
   ]
  },
  {
   "cell_type": "code",
   "execution_count": 6,
   "metadata": {},
   "outputs": [
    {
     "data": {
      "text/plain": [
       "8"
      ]
     },
     "execution_count": 6,
     "metadata": {},
     "output_type": "execute_result"
    }
   ],
   "source": [
    "class Calculator:\n",
    "\n",
    "    def add(self):\n",
    "        print(3 + 4)\n",
    "\n",
    "    def add(self, n1, n2 = None, n3 = None):\n",
    "        s = 0\n",
    "        \n",
    "        if n3 != None:\n",
    "            s = n1 + n2 + n3\n",
    "        elif (n2 != None):\n",
    "            s = n1 + n2\n",
    "        else:\n",
    "            s = n1\n",
    "            \n",
    "        return s\n",
    "\n",
    "c1 = Calculator()\n",
    "# c1.add(4)\n",
    "c1.add(4, 4)"
   ]
  },
  {
   "cell_type": "code",
   "execution_count": null,
   "metadata": {},
   "outputs": [],
   "source": []
  }
 ],
 "metadata": {
  "kernelspec": {
   "display_name": "Python 3",
   "language": "python",
   "name": "python3"
  },
  "language_info": {
   "codemirror_mode": {
    "name": "ipython",
    "version": 3
   },
   "file_extension": ".py",
   "mimetype": "text/x-python",
   "name": "python",
   "nbconvert_exporter": "python",
   "pygments_lexer": "ipython3",
   "version": "3.11.2"
  },
  "orig_nbformat": 4
 },
 "nbformat": 4,
 "nbformat_minor": 2
}
