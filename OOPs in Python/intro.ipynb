{
 "cells": [
  {
   "cell_type": "code",
   "execution_count": 13,
   "metadata": {},
   "outputs": [],
   "source": [
    "# Object\n",
    "# Knows something - attributes\n",
    "# does something - methods (functions)\n",
    "\n",
    "class Computer:\n",
    "\n",
    "    def __init__(self):\n",
    "        # print(\"Mein call hogaya\")\n",
    "        self.cpu = \"i7\"\n",
    "        self.ram = \"16GB\"\n",
    "\n",
    "    def show(self):\n",
    "        print(self.cpu, \":\", self.ram)\n",
    "\n",
    "comp1 = Computer()\n",
    "comp2 = Computer()\n",
    "comp2.cpu = \"i9\""
   ]
  },
  {
   "cell_type": "code",
   "execution_count": 14,
   "metadata": {},
   "outputs": [
    {
     "name": "stdout",
     "output_type": "stream",
     "text": [
      "i7\n",
      "i9\n"
     ]
    }
   ],
   "source": [
    "print(comp1.cpu)\n",
    "print(comp2.cpu)"
   ]
  },
  {
   "cell_type": "code",
   "execution_count": 15,
   "metadata": {},
   "outputs": [
    {
     "name": "stdout",
     "output_type": "stream",
     "text": [
      "i7 : 16GB\n"
     ]
    }
   ],
   "source": [
    "comp1.show() # Computer.show(comp1)"
   ]
  },
  {
   "cell_type": "code",
   "execution_count": 16,
   "metadata": {},
   "outputs": [
    {
     "name": "stdout",
     "output_type": "stream",
     "text": [
      "i9 : 16GB\n"
     ]
    }
   ],
   "source": [
    "comp2.show() # Computer.show(comp2)"
   ]
  },
  {
   "cell_type": "code",
   "execution_count": 22,
   "metadata": {},
   "outputs": [],
   "source": [
    "class Computer:\n",
    "\n",
    "    # class variable\n",
    "    brand = \"Asus\"\n",
    "\n",
    "    # instance variables\n",
    "    def __init__(self, cpu, ram):\n",
    "        # print(\"Mein call hogaya\")\n",
    "        self.cpu = cpu\n",
    "        self.ram = ram\n",
    "\n",
    "    def show(self):\n",
    "        print(self.cpu, \":\", self.ram)"
   ]
  },
  {
   "cell_type": "code",
   "execution_count": 18,
   "metadata": {},
   "outputs": [],
   "source": [
    "comp1 = Computer(\"i7\", \"8GB\")\n",
    "comp2 = Computer(\"i9\", \"16GB\")"
   ]
  },
  {
   "cell_type": "code",
   "execution_count": 19,
   "metadata": {},
   "outputs": [
    {
     "name": "stdout",
     "output_type": "stream",
     "text": [
      "i7 : 8GB\n"
     ]
    }
   ],
   "source": [
    "comp1.show()"
   ]
  },
  {
   "cell_type": "code",
   "execution_count": 20,
   "metadata": {},
   "outputs": [
    {
     "name": "stdout",
     "output_type": "stream",
     "text": [
      "i9 : 16GB\n"
     ]
    }
   ],
   "source": [
    "comp2.show()"
   ]
  },
  {
   "cell_type": "code",
   "execution_count": 23,
   "metadata": {},
   "outputs": [
    {
     "data": {
      "text/plain": [
       "'Asus'"
      ]
     },
     "execution_count": 23,
     "metadata": {},
     "output_type": "execute_result"
    }
   ],
   "source": [
    "Computer.brand"
   ]
  },
  {
   "cell_type": "code",
   "execution_count": 27,
   "metadata": {},
   "outputs": [],
   "source": [
    "class Student:\n",
    "\n",
    "    def __init__(self, marks):\n",
    "        self.marks = marks\n",
    "\n",
    "    def compare(self, other):\n",
    "        if self.marks > other.marks:\n",
    "            print(\"s1\")\n",
    "        else:\n",
    "            print(\"s2\")\n",
    "\n",
    "s1 = Student(25)\n",
    "s2 = Student(30)"
   ]
  },
  {
   "cell_type": "code",
   "execution_count": 28,
   "metadata": {},
   "outputs": [
    {
     "name": "stdout",
     "output_type": "stream",
     "text": [
      "s2\n"
     ]
    }
   ],
   "source": [
    "s1.compare(s2) # Student.compare(s1, s2)"
   ]
  },
  {
   "cell_type": "code",
   "execution_count": null,
   "metadata": {},
   "outputs": [],
   "source": [
    "# from crypt import methods\n",
    "\n",
    "# types of method\n",
    "# Encapsulation\n",
    "# Inheritance\n",
    "\n",
    "class Student:\n",
    "\n",
    "    def __init__(self):\n",
    "        self.marks = 10\n",
    "\n",
    "s1 = Student()\n",
    "\n",
    "print(s1.marks)"
   ]
  },
  {
   "cell_type": "code",
   "execution_count": 4,
   "metadata": {},
   "outputs": [
    {
     "name": "stdout",
     "output_type": "stream",
     "text": [
      "Construction: Person class is created\n",
      "Construction: Person class is created\n",
      "Harry is a Developer\n",
      "Apurba is a HR\n"
     ]
    }
   ],
   "source": [
    "class Person:\n",
    "\n",
    "    def __init__(self, name, occ):\n",
    "        print(\"Construction: Person class is created\")\n",
    "        self.name = name\n",
    "        self.occ = occ\n",
    "\n",
    "    def info(self):\n",
    "        print(f\"{self.name} is a {self.occ}\")\n",
    "\n",
    "a = Person(\"Harry\", \"Developer\")\n",
    "b = Person(\"Apurba\", \"HR\")\n",
    "a.info()\n",
    "b.info()"
   ]
  },
  {
   "cell_type": "code",
   "execution_count": 5,
   "metadata": {},
   "outputs": [
    {
     "name": "stdout",
     "output_type": "stream",
     "text": [
      "Value is 10\n"
     ]
    }
   ],
   "source": [
    "class MyClass:\n",
    "\n",
    "    def __init__(self, value):\n",
    "        self._value = value\n",
    "    \n",
    "    def show(self):\n",
    "        print(f\"Value is {self._value}\")\n",
    "    \n",
    "    @property\n",
    "    def value(self):\n",
    "        return self._value\n",
    "\n",
    "obj = MyClass(10)\n",
    "obj.show()"
   ]
  },
  {
   "cell_type": "code",
   "execution_count": 6,
   "metadata": {},
   "outputs": [],
   "source": [
    "class Student:\n",
    "\n",
    "    school = \"Ineuron\"   # class variable\n",
    "\n",
    "    def __init__(self):\n",
    "        self.marks = 10\n",
    "    \n",
    "    def get_marks(self):  # instance variable\n",
    "        return self.marks\n",
    "    \n",
    "    @classmethod\n",
    "    def get_school(cls):   # class method\n",
    "        return cls.school\n",
    "    \n",
    "    @staticmethod\n",
    "    def add(x, y):         # Static methods\n",
    "        return x+y\n",
    "\n",
    "    \n",
    "s1 = Student()\n",
    "s2 = Student()"
   ]
  },
  {
   "cell_type": "code",
   "execution_count": 8,
   "metadata": {},
   "outputs": [
    {
     "data": {
      "text/plain": [
       "10"
      ]
     },
     "execution_count": 8,
     "metadata": {},
     "output_type": "execute_result"
    }
   ],
   "source": [
    "s1.get_marks()"
   ]
  },
  {
   "cell_type": "code",
   "execution_count": 9,
   "metadata": {},
   "outputs": [
    {
     "name": "stdout",
     "output_type": "stream",
     "text": [
      "10\n"
     ]
    }
   ],
   "source": [
    "print(s1.marks)"
   ]
  },
  {
   "cell_type": "code",
   "execution_count": 10,
   "metadata": {},
   "outputs": [
    {
     "name": "stdout",
     "output_type": "stream",
     "text": [
      "Ineuron\n"
     ]
    }
   ],
   "source": [
    "print(Student.get_school())"
   ]
  },
  {
   "cell_type": "code",
   "execution_count": 7,
   "metadata": {},
   "outputs": [
    {
     "name": "stdout",
     "output_type": "stream",
     "text": [
      "8\n"
     ]
    }
   ],
   "source": [
    "print(Student.add(3, 5))"
   ]
  }
 ],
 "metadata": {
  "kernelspec": {
   "display_name": "Python 3",
   "language": "python",
   "name": "python3"
  },
  "language_info": {
   "codemirror_mode": {
    "name": "ipython",
    "version": 3
   },
   "file_extension": ".py",
   "mimetype": "text/x-python",
   "name": "python",
   "nbconvert_exporter": "python",
   "pygments_lexer": "ipython3",
   "version": "3.11.2"
  },
  "orig_nbformat": 4
 },
 "nbformat": 4,
 "nbformat_minor": 2
}
