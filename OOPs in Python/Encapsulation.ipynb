{
 "cells": [
  {
   "attachments": {},
   "cell_type": "markdown",
   "metadata": {},
   "source": [
    "### Accesser and Mutator or getter and setter"
   ]
  },
  {
   "cell_type": "code",
   "execution_count": 19,
   "metadata": {},
   "outputs": [],
   "source": [
    "# __age -> will not be accessible\n",
    "# _age -> it can be used\n",
    "\n",
    "class Person:\n",
    "\n",
    "    def __init__(self):\n",
    "        self.__age = None\n",
    "        self._name = \"Navin\"\n",
    "    \n",
    "    def get_age(self):\n",
    "        return self.__age\n",
    "    \n",
    "    def set_age(self, age):\n",
    "        self.__age = age"
   ]
  },
  {
   "cell_type": "code",
   "execution_count": 20,
   "metadata": {},
   "outputs": [],
   "source": [
    "p1 = Person()"
   ]
  },
  {
   "cell_type": "code",
   "execution_count": 21,
   "metadata": {},
   "outputs": [],
   "source": [
    "p1.set_age(19)"
   ]
  },
  {
   "cell_type": "code",
   "execution_count": 23,
   "metadata": {},
   "outputs": [],
   "source": [
    "p1.__age = 20 # new thing is created"
   ]
  },
  {
   "cell_type": "code",
   "execution_count": 25,
   "metadata": {},
   "outputs": [
    {
     "data": {
      "text/plain": [
       "20"
      ]
     },
     "execution_count": 25,
     "metadata": {},
     "output_type": "execute_result"
    }
   ],
   "source": [
    "p1.__age"
   ]
  },
  {
   "cell_type": "code",
   "execution_count": 1,
   "metadata": {},
   "outputs": [
    {
     "name": "stdout",
     "output_type": "stream",
     "text": [
      "In A f1\n",
      "In B f2\n",
      "In C f3\n"
     ]
    }
   ],
   "source": [
    "class A:               # 25 features\n",
    "    \n",
    "    def f1(self):\n",
    "        print(\"In A f1\")\n",
    "\n",
    "class B(A):            # 27 features\n",
    "\n",
    "    def f2(self):\n",
    "        print(\"In B f2\")\n",
    "\n",
    "class C(B):\n",
    "\n",
    "    def f3(self):\n",
    "        print(\"In C f3\")\n",
    "\n",
    "obj1 = C()\n",
    "obj1.f1()\n",
    "obj1.f2()\n",
    "obj1.f3()"
   ]
  },
  {
   "cell_type": "code",
   "execution_count": 4,
   "metadata": {},
   "outputs": [
    {
     "name": "stdout",
     "output_type": "stream",
     "text": [
      "Coding..\n",
      "spell check\n",
      "convention check\n",
      "Compile\n",
      "Run\n"
     ]
    }
   ],
   "source": [
    "# Duck Typing\n",
    "\n",
    "class VSCode:\n",
    "\n",
    "    def execute(self):\n",
    "        print(\"Compile\")\n",
    "        print(\"Run\")\n",
    "\n",
    "\n",
    "class Notepad:\n",
    "\n",
    "    def show():\n",
    "        print(\"Texting..\")\n",
    "\n",
    "\n",
    "class MyEditor:\n",
    "\n",
    "    def execute(self):\n",
    "        print(\"spell check\")\n",
    "        print(\"convention check\")\n",
    "        print(\"Compile\")\n",
    "        print(\"Run\")\n",
    "\n",
    "class Laptop:\n",
    "\n",
    "    def code(self, ide):\n",
    "        print(\"Coding..\")\n",
    "        ide.execute()\n",
    "\n",
    "lap1 = Laptop()\n",
    "# ide = Notepad()\n",
    "ide = MyEditor()\n",
    "lap1.code(ide)"
   ]
  },
  {
   "cell_type": "code",
   "execution_count": 5,
   "metadata": {},
   "outputs": [
    {
     "name": "stdout",
     "output_type": "stream",
     "text": [
      "11\n",
      "Navin Reddy\n"
     ]
    }
   ],
   "source": [
    "a = 5\n",
    "b = 6\n",
    "c = \"Navin\"\n",
    "d = \" Reddy\"\n",
    "print(a + b)\n",
    "print(c + d)"
   ]
  },
  {
   "cell_type": "code",
   "execution_count": 6,
   "metadata": {},
   "outputs": [
    {
     "ename": "TypeError",
     "evalue": "unsupported operand type(s) for +: 'Student' and 'Student'",
     "output_type": "error",
     "traceback": [
      "\u001b[1;31m---------------------------------------------------------------------------\u001b[0m",
      "\u001b[1;31mTypeError\u001b[0m                                 Traceback (most recent call last)",
      "Cell \u001b[1;32mIn[6], line 10\u001b[0m\n\u001b[0;32m      7\u001b[0m s1 \u001b[39m=\u001b[39m Student(\u001b[39m45\u001b[39m, \u001b[39m34\u001b[39m)\n\u001b[0;32m      8\u001b[0m s2 \u001b[39m=\u001b[39m Student(\u001b[39m99\u001b[39m, \u001b[39m77\u001b[39m)\n\u001b[1;32m---> 10\u001b[0m s3 \u001b[39m=\u001b[39m s1 \u001b[39m+\u001b[39;49m s2\n",
      "\u001b[1;31mTypeError\u001b[0m: unsupported operand type(s) for +: 'Student' and 'Student'"
     ]
    }
   ],
   "source": [
    "class Student:\n",
    "\n",
    "    def __init__(self, m1, m2):\n",
    "        self.m1 = m1\n",
    "        self.m2 = m2\n",
    "\n",
    "s1 = Student(45, 34)\n",
    "s2 = Student(99, 77)\n",
    "\n",
    "s3 = s1 + s2"
   ]
  }
 ],
 "metadata": {
  "kernelspec": {
   "display_name": "Python 3",
   "language": "python",
   "name": "python3"
  },
  "language_info": {
   "codemirror_mode": {
    "name": "ipython",
    "version": 3
   },
   "file_extension": ".py",
   "mimetype": "text/x-python",
   "name": "python",
   "nbconvert_exporter": "python",
   "pygments_lexer": "ipython3",
   "version": "3.11.2"
  },
  "orig_nbformat": 4
 },
 "nbformat": 4,
 "nbformat_minor": 2
}
