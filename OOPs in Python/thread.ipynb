{
 "cells": [
  {
   "cell_type": "code",
   "execution_count": null,
   "metadata": {},
   "outputs": [],
   "source": [
    "from threading import*\n",
    "from time import sleep\n",
    "\n",
    "# Hello\n",
    "# Hi\n",
    "# Main\n",
    "\n",
    "class Hello(Thread):\n",
    "\n",
    "    def run(self):\n",
    "        for i in range(5):\n",
    "            print(\"Hello\")\n",
    "            sleep(1)\n",
    "\n",
    "\n",
    "class Hi(Thread):\n",
    "\n",
    "    def run(self):\n",
    "        for i in range(5):\n",
    "            print(\"Hi \")\n",
    "            sleep(1)\n",
    "\n",
    "obj1 = Hello()   # Hello thread created\n",
    "obj2 = Hi()  # Hi thread created\n",
    "\n",
    "print(\"Welcome to the session\")\n",
    "print(\"We are learing threads\")\n",
    "x = 9\n",
    "\n",
    "obj1.start()\n",
    "sleep(1)\n",
    "obj2.start()\n",
    "\n",
    "print(\"BYE\")"
   ]
  }
 ],
 "metadata": {
  "kernelspec": {
   "display_name": "Python 3",
   "language": "python",
   "name": "python3"
  },
  "language_info": {
   "codemirror_mode": {
    "name": "ipython",
    "version": 3
   },
   "file_extension": ".py",
   "mimetype": "text/x-python",
   "name": "python",
   "nbconvert_exporter": "python",
   "pygments_lexer": "ipython3",
   "version": "3.11.2"
  },
  "orig_nbformat": 4
 },
 "nbformat": 4,
 "nbformat_minor": 2
}
