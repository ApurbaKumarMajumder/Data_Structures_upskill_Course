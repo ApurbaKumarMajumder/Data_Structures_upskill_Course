{
 "cells": [
  {
   "cell_type": "code",
   "execution_count": 4,
   "metadata": {},
   "outputs": [
    {
     "name": "stdout",
     "output_type": "stream",
     "text": [
      "Hello\n",
      "Hello\n",
      "Hello\n",
      "Hello\n",
      "Hello\n",
      "Hi \n",
      "Hi \n",
      "Hi \n",
      "Hi \n",
      "Hi \n"
     ]
    }
   ],
   "source": [
    "from threading import*\n",
    "\n",
    "class Hello(Thread):\n",
    "\n",
    "    def run(self):\n",
    "        for i in range(5):\n",
    "            print(\"Hello\")\n",
    "\n",
    "\n",
    "class Hi(Thread):\n",
    "\n",
    "    def run(self):\n",
    "        for i in range(5):\n",
    "            print(\"Hi \")\n",
    "\n",
    "obj1 = Hello()\n",
    "obj2 = Hi()\n",
    "\n",
    "obj1.run()\n",
    "obj2.run()"
   ]
  }
 ],
 "metadata": {
  "kernelspec": {
   "display_name": "Python 3",
   "language": "python",
   "name": "python3"
  },
  "language_info": {
   "codemirror_mode": {
    "name": "ipython",
    "version": 3
   },
   "file_extension": ".py",
   "mimetype": "text/x-python",
   "name": "python",
   "nbconvert_exporter": "python",
   "pygments_lexer": "ipython3",
   "version": "3.11.2"
  },
  "orig_nbformat": 4
 },
 "nbformat": 4,
 "nbformat_minor": 2
}
